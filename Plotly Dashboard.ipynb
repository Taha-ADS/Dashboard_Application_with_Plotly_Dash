{
 "cells": [
  {
   "cell_type": "code",
   "execution_count": 1,
   "id": "bc720f4a-3316-4107-ada3-7ff308c296f2",
   "metadata": {},
   "outputs": [
    {
     "name": "stdout",
     "output_type": "stream",
     "text": [
      "Requirement already satisfied: pandas in c:\\users\\tahan\\anaconda3\\lib\\site-packages (2.2.2)\n",
      "Requirement already satisfied: dash in c:\\users\\tahan\\anaconda3\\lib\\site-packages (2.18.1)\n",
      "Requirement already satisfied: plotly in c:\\users\\tahan\\anaconda3\\lib\\site-packages (5.22.0)\n",
      "Requirement already satisfied: numpy>=1.26.0 in c:\\users\\tahan\\anaconda3\\lib\\site-packages (from pandas) (1.26.4)\n",
      "Requirement already satisfied: python-dateutil>=2.8.2 in c:\\users\\tahan\\anaconda3\\lib\\site-packages (from pandas) (2.9.0.post0)\n",
      "Requirement already satisfied: pytz>=2020.1 in c:\\users\\tahan\\anaconda3\\lib\\site-packages (from pandas) (2024.1)\n",
      "Requirement already satisfied: tzdata>=2022.7 in c:\\users\\tahan\\anaconda3\\lib\\site-packages (from pandas) (2023.3)\n",
      "Requirement already satisfied: Flask<3.1,>=1.0.4 in c:\\users\\tahan\\anaconda3\\lib\\site-packages (from dash) (3.0.3)\n",
      "Requirement already satisfied: Werkzeug<3.1 in c:\\users\\tahan\\anaconda3\\lib\\site-packages (from dash) (3.0.3)\n",
      "Requirement already satisfied: dash-html-components==2.0.0 in c:\\users\\tahan\\anaconda3\\lib\\site-packages (from dash) (2.0.0)\n",
      "Requirement already satisfied: dash-core-components==2.0.0 in c:\\users\\tahan\\anaconda3\\lib\\site-packages (from dash) (2.0.0)\n",
      "Requirement already satisfied: dash-table==5.0.0 in c:\\users\\tahan\\anaconda3\\lib\\site-packages (from dash) (5.0.0)\n",
      "Requirement already satisfied: importlib-metadata in c:\\users\\tahan\\anaconda3\\lib\\site-packages (from dash) (7.0.1)\n",
      "Requirement already satisfied: typing-extensions>=4.1.1 in c:\\users\\tahan\\anaconda3\\lib\\site-packages (from dash) (4.11.0)\n",
      "Requirement already satisfied: requests in c:\\users\\tahan\\anaconda3\\lib\\site-packages (from dash) (2.32.2)\n",
      "Requirement already satisfied: retrying in c:\\users\\tahan\\anaconda3\\lib\\site-packages (from dash) (1.3.4)\n",
      "Requirement already satisfied: nest-asyncio in c:\\users\\tahan\\anaconda3\\lib\\site-packages (from dash) (1.6.0)\n",
      "Requirement already satisfied: setuptools in c:\\users\\tahan\\anaconda3\\lib\\site-packages (from dash) (69.5.1)\n",
      "Requirement already satisfied: tenacity>=6.2.0 in c:\\users\\tahan\\anaconda3\\lib\\site-packages (from plotly) (8.2.2)\n",
      "Requirement already satisfied: packaging in c:\\users\\tahan\\anaconda3\\lib\\site-packages (from plotly) (23.2)\n",
      "Requirement already satisfied: Jinja2>=3.1.2 in c:\\users\\tahan\\anaconda3\\lib\\site-packages (from Flask<3.1,>=1.0.4->dash) (3.1.4)\n",
      "Requirement already satisfied: itsdangerous>=2.1.2 in c:\\users\\tahan\\anaconda3\\lib\\site-packages (from Flask<3.1,>=1.0.4->dash) (2.2.0)\n",
      "Requirement already satisfied: click>=8.1.3 in c:\\users\\tahan\\anaconda3\\lib\\site-packages (from Flask<3.1,>=1.0.4->dash) (8.1.7)\n",
      "Requirement already satisfied: blinker>=1.6.2 in c:\\users\\tahan\\anaconda3\\lib\\site-packages (from Flask<3.1,>=1.0.4->dash) (1.6.2)\n",
      "Requirement already satisfied: six>=1.5 in c:\\users\\tahan\\anaconda3\\lib\\site-packages (from python-dateutil>=2.8.2->pandas) (1.16.0)\n",
      "Requirement already satisfied: MarkupSafe>=2.1.1 in c:\\users\\tahan\\anaconda3\\lib\\site-packages (from Werkzeug<3.1->dash) (2.1.3)\n",
      "Requirement already satisfied: zipp>=0.5 in c:\\users\\tahan\\anaconda3\\lib\\site-packages (from importlib-metadata->dash) (3.17.0)\n",
      "Requirement already satisfied: charset-normalizer<4,>=2 in c:\\users\\tahan\\anaconda3\\lib\\site-packages (from requests->dash) (2.0.4)\n",
      "Requirement already satisfied: idna<4,>=2.5 in c:\\users\\tahan\\anaconda3\\lib\\site-packages (from requests->dash) (3.7)\n",
      "Requirement already satisfied: urllib3<3,>=1.21.1 in c:\\users\\tahan\\anaconda3\\lib\\site-packages (from requests->dash) (2.2.2)\n",
      "Requirement already satisfied: certifi>=2017.4.17 in c:\\users\\tahan\\anaconda3\\lib\\site-packages (from requests->dash) (2024.8.30)\n",
      "Requirement already satisfied: colorama in c:\\users\\tahan\\anaconda3\\lib\\site-packages (from click>=8.1.3->Flask<3.1,>=1.0.4->dash) (0.4.6)\n"
     ]
    }
   ],
   "source": [
    "!pip install pandas dash plotly"
   ]
  },
  {
   "cell_type": "code",
   "execution_count": 2,
   "id": "6c08e78a-f936-4485-b65e-43f526d4a995",
   "metadata": {},
   "outputs": [],
   "source": [
    "import pandas as pd\n",
    "\n",
    "# Load SpaceX dataset\n",
    "spacex_df = pd.read_csv(\"https://cf-courses-data.s3.us.cloud-object-storage.appdomain.cloud/IBM-DS0321EN-SkillsNetwork/datasets/spacex_launch_dash.csv\")\n"
   ]
  },
  {
   "cell_type": "code",
   "execution_count": 3,
   "id": "115cdb29-bf1c-44e7-83c9-16082a02d53b",
   "metadata": {},
   "outputs": [],
   "source": [
    "from dash import Dash, dcc, html\n",
    "from dash.dependencies import Input, Output\n",
    "import plotly.express as px\n",
    "\n",
    "app = Dash(__name__)"
   ]
  },
  {
   "cell_type": "code",
   "execution_count": 4,
   "id": "d865329a-4dfb-477b-9765-e1d8164a22d3",
   "metadata": {},
   "outputs": [],
   "source": [
    "app.layout = html.Div([\n",
    "    html.H1(\"SpaceX Launch Dashboard\", style={'textAlign': 'center'}),\n",
    "    \n",
    "    # Dropdown for selecting launch site\n",
    "    dcc.Dropdown(\n",
    "        id='site-dropdown',\n",
    "        options=[\n",
    "            {'label': 'All Sites', 'value': 'ALL'},\n",
    "            {'label': 'CCAFS LC-40', 'value': 'CCAFS LC-40'},\n",
    "            {'label': 'VAFB SLC-4E', 'value': 'VAFB SLC-4E'},\n",
    "            {'label': 'KSC LC-39A', 'value': 'KSC LC-39A'},\n",
    "            {'label': 'CCAFS SLC-40', 'value': 'CCAFS SLC-40'}\n",
    "        ],\n",
    "        value='ALL',\n",
    "        placeholder=\"Select a Launch Site\",\n",
    "        searchable=True\n",
    "    ),\n",
    "    \n",
    "    # Pie chart for launch success/failure counts\n",
    "    dcc.Graph(id='success-pie-chart'),\n",
    "    \n",
    "    # Range slider for payload selection\n",
    "    dcc.RangeSlider(\n",
    "        id='payload-slider',\n",
    "        min=0, max=10000, step=1000,\n",
    "        marks={0: '0', 2500: '2500', 5000: '5000', 7500: '7500', 10000: '10000'},\n",
    "        value=[0, 10000]\n",
    "    ),\n",
    "    \n",
    "    # Scatter plot for payload vs. success\n",
    "    dcc.Graph(id='success-payload-scatter-chart')\n",
    "])\n"
   ]
  },
  {
   "cell_type": "code",
   "execution_count": 5,
   "id": "ce9cc5e8-38c1-4e48-a1c7-df953e74d491",
   "metadata": {},
   "outputs": [],
   "source": [
    "@app.callback(\n",
    "    Output('success-pie-chart', 'figure'),\n",
    "    [Input('site-dropdown', 'value')]\n",
    ")\n",
    "def update_pie_chart(selected_site):\n",
    "    if selected_site == 'ALL':\n",
    "        fig = px.pie(spacex_df, values='class', names='Launch Site', title='Total Success Launches by Site')\n",
    "    else:\n",
    "        filtered_df = spacex_df[spacex_df['Launch Site'] == selected_site]\n",
    "        success_counts = filtered_df['class'].value_counts()\n",
    "        fig = px.pie(values=success_counts, names=success_counts.index, title=f'Success vs Failure for {selected_site}')\n",
    "    return fig"
   ]
  },
  {
   "cell_type": "code",
   "execution_count": 6,
   "id": "0e35efc2-bac5-4672-9e54-9eef23ec53f4",
   "metadata": {},
   "outputs": [],
   "source": [
    "@app.callback(\n",
    "    Output('success-payload-scatter-chart', 'figure'),\n",
    "    [Input('site-dropdown', 'value'),\n",
    "     Input('payload-slider', 'value')]\n",
    ")\n",
    "def update_scatter_plot(selected_site, payload_range):\n",
    "    low, high = payload_range\n",
    "    filtered_df = spacex_df[(spacex_df['Payload Mass (kg)'] >= low) & \n",
    "                            (spacex_df['Payload Mass (kg)'] <= high)]\n",
    "    if selected_site == 'ALL':\n",
    "        fig = px.scatter(filtered_df, x='Payload Mass (kg)', y='class', \n",
    "                         color=\"Booster Version Category\",\n",
    "                         title='Payload vs. Success for All Sites')\n",
    "    else:\n",
    "        filtered_df = filtered_df[filtered_df['Launch Site'] == selected_site]\n",
    "        fig = px.scatter(filtered_df, x='Payload Mass (kg)', y='class', \n",
    "                         color=\"Booster Version Category\",\n",
    "                         title=f'Payload vs. Success for {selected_site}')\n",
    "    return fig\n"
   ]
  },
  {
   "cell_type": "code",
   "execution_count": 7,
   "id": "38fb6032-93aa-41d9-9ac0-b3b92e3658a5",
   "metadata": {},
   "outputs": [
    {
     "data": {
      "text/html": [
       "\n",
       "        <iframe\n",
       "            width=\"100%\"\n",
       "            height=\"650\"\n",
       "            src=\"http://127.0.0.1:8050/\"\n",
       "            frameborder=\"0\"\n",
       "            allowfullscreen\n",
       "            \n",
       "        ></iframe>\n",
       "        "
      ],
      "text/plain": [
       "<IPython.lib.display.IFrame at 0x1a50e9f0ce0>"
      ]
     },
     "metadata": {},
     "output_type": "display_data"
    }
   ],
   "source": [
    "if __name__ == '__main__':\n",
    "    app.run_server(debug=True, port=8050)"
   ]
  },
  {
   "cell_type": "code",
   "execution_count": null,
   "id": "f1f2dc3c-0b34-492f-9c94-32f5f1b9eae6",
   "metadata": {},
   "outputs": [],
   "source": []
  }
 ],
 "metadata": {
  "kernelspec": {
   "display_name": "Python 3 (ipykernel)",
   "language": "python",
   "name": "python3"
  },
  "language_info": {
   "codemirror_mode": {
    "name": "ipython",
    "version": 3
   },
   "file_extension": ".py",
   "mimetype": "text/x-python",
   "name": "python",
   "nbconvert_exporter": "python",
   "pygments_lexer": "ipython3",
   "version": "3.12.3"
  }
 },
 "nbformat": 4,
 "nbformat_minor": 5
}
